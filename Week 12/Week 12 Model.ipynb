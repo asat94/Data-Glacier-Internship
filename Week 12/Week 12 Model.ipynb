{
 "cells": [
  {
   "cell_type": "markdown",
   "id": "550707ed-531c-482a-b5af-426159c752d0",
   "metadata": {},
   "source": [
    "# <Center> Week 12 Model Selection and Model Building/Dashboard"
   ]
  },
  {
   "cell_type": "markdown",
   "id": "b37c1635-74e5-45ea-8202-fd24d180a0ad",
   "metadata": {},
   "source": [
    "####  Group Name: Data Visionaries\n",
    "#### Name: Abdukhakimov Asatilla\n",
    "#### Email: tremendous54@gmail.com\n",
    "#### Country: Uzbekistan\n",
    "#### Company: Data Glacier\n",
    "#### Specialization: Data Science"
   ]
  },
  {
   "cell_type": "markdown",
   "id": "7fde8bd0-e3a6-458c-bce9-13a6c3c0a1d1",
   "metadata": {},
   "source": [
    "### Problem Description"
   ]
  },
  {
   "cell_type": "markdown",
   "id": "1a58799a-56bf-46be-9f95-2a2e7503d708",
   "metadata": {},
   "source": [
    "ABC Bank wants to sell its term deposit product to customers. Before launching the product, the bank aims to develop a model to understand whether a particular customer will buy their product or not, based on the customer's past interaction with the bank or other financial institutions."
   ]
  },
  {
   "cell_type": "code",
   "execution_count": 1,
   "id": "f4981d38-3af8-4eeb-ab5d-ee8c9966acd8",
   "metadata": {},
   "outputs": [],
   "source": [
    "import pandas as pd\n",
    "import warnings\n",
    "warnings.filterwarnings(\"ignore\")"
   ]
  },
  {
   "cell_type": "code",
   "execution_count": 2,
   "id": "fc08114b-bd7f-417a-aa53-dc724053fe30",
   "metadata": {},
   "outputs": [],
   "source": [
    "df = pd.read_csv('bank-full.csv', sep=';')"
   ]
  },
  {
   "cell_type": "code",
   "execution_count": 3,
   "id": "493c72c0-08da-46ee-9d64-e1d7b5505939",
   "metadata": {},
   "outputs": [
    {
     "name": "stdout",
     "output_type": "stream",
     "text": [
      "=== LR with duration ===\n",
      "              precision    recall  f1-score   support\n",
      "\n",
      "           0       0.91      0.98      0.94      7952\n",
      "           1       0.64      0.30      0.41      1091\n",
      "\n",
      "    accuracy                           0.90      9043\n",
      "   macro avg       0.78      0.64      0.68      9043\n",
      "weighted avg       0.88      0.90      0.88      9043\n",
      "\n",
      "=== RF with duration ===\n",
      "              precision    recall  f1-score   support\n",
      "\n",
      "           0       0.92      0.97      0.94      7952\n",
      "           1       0.63      0.41      0.49      1091\n",
      "\n",
      "    accuracy                           0.90      9043\n",
      "   macro avg       0.78      0.69      0.72      9043\n",
      "weighted avg       0.89      0.90      0.89      9043\n",
      "\n",
      "=== LR w/o duration ===\n",
      "              precision    recall  f1-score   support\n",
      "\n",
      "           0       0.90      0.99      0.94      7952\n",
      "           1       0.70      0.16      0.26      1091\n",
      "\n",
      "    accuracy                           0.89      9043\n",
      "   macro avg       0.80      0.57      0.60      9043\n",
      "weighted avg       0.87      0.89      0.86      9043\n",
      "\n",
      "=== RF w/o duration ===\n",
      "              precision    recall  f1-score   support\n",
      "\n",
      "           0       0.90      0.99      0.94      7952\n",
      "           1       0.65      0.20      0.31      1091\n",
      "\n",
      "    accuracy                           0.89      9043\n",
      "   macro avg       0.78      0.59      0.63      9043\n",
      "weighted avg       0.87      0.89      0.86      9043\n",
      "\n"
     ]
    },
    {
     "data": {
      "text/plain": [
       "{'LR with duration': np.float64(0.8781105514848947),\n",
       " 'RF with duration': np.float64(0.918170341941659),\n",
       " 'LR w/o duration': np.float64(0.7064076715102716),\n",
       " 'RF w/o duration': np.float64(0.7677658526779375)}"
      ]
     },
     "execution_count": 3,
     "metadata": {},
     "output_type": "execute_result"
    }
   ],
   "source": [
    "import matplotlib.pyplot as plt\n",
    "import seaborn as sns\n",
    "from sklearn.model_selection import train_test_split\n",
    "from sklearn.preprocessing import LabelEncoder, StandardScaler\n",
    "from sklearn.ensemble import RandomForestClassifier\n",
    "from sklearn.linear_model import LogisticRegression\n",
    "from sklearn.metrics import classification_report, confusion_matrix, roc_auc_score, roc_curve\n",
    "import plotly.express as px\n",
    "import plotly.graph_objects as go\n",
    "import numpy as np\n",
    "\n",
    "# Make a copy for processing\n",
    "data = df.copy()\n",
    "\n",
    "# Data Cleansing\n",
    "data.columns = data.columns.str.strip()\n",
    "data.replace(\"unknown\", np.nan, inplace=True)\n",
    "missing = data.isnull().sum()\n",
    "\n",
    "# Impute missing categorical values with mode\n",
    "for col in data.select_dtypes(include='object').columns:\n",
    "    data[col].fillna(data[col].mode()[0], inplace=True)\n",
    "\n",
    "# Encode categorical variables\n",
    "categorical_cols = data.select_dtypes(include='object').columns.tolist()\n",
    "categorical_cols.remove('y')  # target variable\n",
    "le = LabelEncoder()\n",
    "for col in categorical_cols:\n",
    "    data[col] = le.fit_transform(data[col])\n",
    "\n",
    "# Encode target\n",
    "data['y'] = data['y'].map({'yes': 1, 'no': 0})\n",
    "\n",
    "# Standardize numerical features\n",
    "num_cols = data.select_dtypes(include=['int64', 'float64']).columns.tolist()\n",
    "num_cols.remove('y')\n",
    "scaler = StandardScaler()\n",
    "data[num_cols] = scaler.fit_transform(data[num_cols])\n",
    "\n",
    "# Prepare data with and without duration\n",
    "X_all = data.drop('y', axis=1)\n",
    "y = data['y']\n",
    "X_with_duration = X_all.copy()\n",
    "X_without_duration = X_all.drop('duration', axis=1)\n",
    "\n",
    "# Train/test split\n",
    "X_train_wd, X_test_wd, y_train, y_test = train_test_split(X_with_duration, y, test_size=0.2, random_state=42)\n",
    "X_train_wod, X_test_wod, _, _ = train_test_split(X_without_duration, y, test_size=0.2, random_state=42)\n",
    "\n",
    "# Model training\n",
    "lr_wd = LogisticRegression(max_iter=1000).fit(X_train_wd, y_train)\n",
    "rf_wd = RandomForestClassifier(n_estimators=100, random_state=42).fit(X_train_wd, y_train)\n",
    "\n",
    "lr_wod = LogisticRegression(max_iter=1000).fit(X_train_wod, y_train)\n",
    "rf_wod = RandomForestClassifier(n_estimators=100, random_state=42).fit(X_train_wod, y_train)\n",
    "\n",
    "# Model evaluation\n",
    "def evaluate_model(model, X_test, y_test, label):\n",
    "    y_pred = model.predict(X_test)\n",
    "    y_proba = model.predict_proba(X_test)[:, 1]\n",
    "    print(f\"=== {label} ===\")\n",
    "    print(classification_report(y_test, y_pred))\n",
    "    return roc_auc_score(y_test, y_proba), roc_curve(y_test, y_proba)\n",
    "\n",
    "# Evaluate all models\n",
    "scores = {}\n",
    "roc_curves = {}\n",
    "\n",
    "for name, model, X in [\n",
    "    (\"LR with duration\", lr_wd, X_test_wd),\n",
    "    (\"RF with duration\", rf_wd, X_test_wd),\n",
    "    (\"LR w/o duration\", lr_wod, X_test_wod),\n",
    "    (\"RF w/o duration\", rf_wod, X_test_wod),\n",
    "]:\n",
    "    auc, roc = evaluate_model(model, X, y_test, name)\n",
    "    scores[name] = auc\n",
    "    roc_curves[name] = roc\n",
    "\n",
    "scores"
   ]
  },
  {
   "cell_type": "markdown",
   "id": "f8b97585-8352-4835-9d4e-15c21cc26c60",
   "metadata": {},
   "source": [
    "#### We trained models, and found Random Forest with duration to be the best"
   ]
  },
  {
   "cell_type": "markdown",
   "id": "a68cc94a-5af2-4dcc-87d0-d37e6ad2b80f",
   "metadata": {},
   "source": [
    "##  Final Model & Predictions"
   ]
  },
  {
   "cell_type": "code",
   "execution_count": 4,
   "id": "3af6f091-63b6-47a6-a889-af4889479377",
   "metadata": {},
   "outputs": [],
   "source": [
    "final_model = RandomForestClassifier(n_estimators=100, random_state=42)\n",
    "final_model.fit(X_train_wd, y_train)\n",
    "y_pred = final_model.predict(X_test_wd)\n",
    "y_proba = final_model.predict_proba(X_test_wd)[:, 1]"
   ]
  },
  {
   "cell_type": "markdown",
   "id": "d1c8baaf-69b9-4dc8-a95f-b5550b54d557",
   "metadata": {},
   "source": [
    "##  Dashboard"
   ]
  },
  {
   "cell_type": "code",
   "execution_count": 5,
   "id": "14d647bb-0c11-4dd2-8df1-5f782f6bbc69",
   "metadata": {},
   "outputs": [],
   "source": [
    "from jupyter_dash import JupyterDash\n",
    "from dash import dcc, html, Input, Output"
   ]
  },
  {
   "cell_type": "code",
   "execution_count": 6,
   "id": "c127cd79-0ab6-41b7-9c03-8fc78db3631c",
   "metadata": {},
   "outputs": [
    {
     "data": {
      "text/html": [
       "\n",
       "        <iframe\n",
       "            width=\"100%\"\n",
       "            height=\"650\"\n",
       "            src=\"http://127.0.0.1:8050/\"\n",
       "            frameborder=\"0\"\n",
       "            allowfullscreen\n",
       "            \n",
       "        ></iframe>\n",
       "        "
      ],
      "text/plain": [
       "<IPython.lib.display.IFrame at 0x1aaa5ca0b60>"
      ]
     },
     "metadata": {},
     "output_type": "display_data"
    },
    {
     "data": {
      "text/html": [
       "\n",
       "        <iframe\n",
       "            width=\"100%\"\n",
       "            height=\"650\"\n",
       "            src=\"http://127.0.0.1:8050/\"\n",
       "            frameborder=\"0\"\n",
       "            allowfullscreen\n",
       "            \n",
       "        ></iframe>\n",
       "        "
      ],
      "text/plain": [
       "<IPython.lib.display.IFrame at 0x1aa90f93680>"
      ]
     },
     "metadata": {},
     "output_type": "display_data"
    }
   ],
   "source": [
    "from jupyter_dash import JupyterDash\n",
    "from dash import Dash, dcc, html, Input, Output\n",
    "import plotly.graph_objects as go\n",
    "\n",
    "# Feature importances (Random Forest with duration)\n",
    "feature_importance = rf_wd.feature_importances_\n",
    "features = X_with_duration.columns\n",
    "\n",
    "# AUC scores sorted\n",
    "sorted_scores = sorted(scores.items(), key=lambda x: x[1], reverse=True)\n",
    "\n",
    "# App layout\n",
    "app = JupyterDash(__name__)\n",
    "app.layout = html.Div([\n",
    "    html.H1(\"ABC Bank Term Deposit Prediction Dashboard\"),\n",
    "    \n",
    "    html.H3(\"Model AUC Scores\"),\n",
    "    dcc.Graph(\n",
    "        figure=go.Figure(\n",
    "            data=[go.Bar(\n",
    "                x=[s[0] for s in sorted_scores],\n",
    "                y=[s[1] for s in sorted_scores],\n",
    "                marker_color='indianred'\n",
    "            )],\n",
    "            layout_title_text=\"AUC Comparison Across Models\"\n",
    "        )\n",
    "    ),\n",
    "\n",
    "    html.H3(\"Random Forest (with Duration) - Feature Importances\"),\n",
    "    dcc.Graph(\n",
    "        figure=go.Figure(\n",
    "            data=[go.Bar(\n",
    "                x=features,\n",
    "                y=feature_importance,\n",
    "                marker_color='teal'\n",
    "            )],\n",
    "            layout_title_text=\"Top Predictive Features\"\n",
    "        )\n",
    "    ),\n",
    "\n",
    "    html.H3(\"Select Model for ROC Curve\"),\n",
    "    dcc.Dropdown(\n",
    "        id='model-dropdown',\n",
    "        options=[{'label': k, 'value': k} for k in roc_curves.keys()],\n",
    "        value='RF with duration'\n",
    "    ),\n",
    "\n",
    "    dcc.Graph(id='roc-curve')\n",
    "])\n",
    "\n",
    "# Callback for ROC Curve\n",
    "@app.callback(\n",
    "    Output('roc-curve', 'figure'),\n",
    "    Input('model-dropdown', 'value')\n",
    ")\n",
    "def update_roc(selected_model):\n",
    "    fpr, tpr, _ = roc_curves[selected_model]\n",
    "    fig = go.Figure()\n",
    "    fig.add_trace(go.Scatter(x=fpr, y=tpr, mode='lines', name='ROC Curve'))\n",
    "    fig.add_trace(go.Scatter(x=[0, 1], y=[0, 1], mode='lines', name='Random', line=dict(dash='dash')))\n",
    "    fig.update_layout(title=f'ROC Curve: {selected_model}', xaxis_title='False Positive Rate', yaxis_title='True Positive Rate')\n",
    "    return fig\n",
    "\n",
    "\n",
    "app.run_server(mode='inline')\n"
   ]
  }
 ],
 "metadata": {
  "kernelspec": {
   "display_name": "Python 3 (ipykernel)",
   "language": "python",
   "name": "python3"
  },
  "language_info": {
   "codemirror_mode": {
    "name": "ipython",
    "version": 3
   },
   "file_extension": ".py",
   "mimetype": "text/x-python",
   "name": "python",
   "nbconvert_exporter": "python",
   "pygments_lexer": "ipython3",
   "version": "3.12.5"
  }
 },
 "nbformat": 4,
 "nbformat_minor": 5
}
