{
 "cells": [
  {
   "cell_type": "markdown",
   "id": "f734958a-c84f-4494-896c-bcb927f30e7c",
   "metadata": {},
   "source": [
    "# <center> Week 6: File ingestion and schema validation"
   ]
  },
  {
   "cell_type": "markdown",
   "id": "e9e1f462-f1e6-4597-97cf-cbe250e49cd1",
   "metadata": {},
   "source": [
    "## Task"
   ]
  },
  {
   "cell_type": "markdown",
   "id": "62aed457-4961-461f-acbd-d78b9326a974",
   "metadata": {},
   "source": [
    "Take any csv/text file of 2+ GB of your choice. --- (You can do this assignment on Google colab)\n",
    "\n",
    "Read the file ( Present approach of reading the file )\n",
    "\n",
    "Try different methods of file reading eg: Dask, Modin, Ray, pandas and present your findings in term of computational efficiency\n",
    "\n",
    "Perform basic validation on data columns : eg: remove special character , white spaces from the col name\n",
    "\n",
    "As you already know the schema hence create a YAML file and write the column name in YAML file. --define separator of read and write file, column name in YAML\n",
    "\n",
    "Validate number of columns and column name of ingested file with YAML.\n",
    "\n",
    "Write the file in pipe separated text file (|) in gz format.\n",
    "\n",
    "Create a summary of the file:\n",
    "\n",
    "Total number of rows,\n",
    "\n",
    "total number of columns\n",
    "\n",
    "file size"
   ]
  },
  {
   "cell_type": "markdown",
   "id": "cd3517c2-f864-432b-a8e6-a02826fc9428",
   "metadata": {},
   "source": [
    "## Dataset"
   ]
  },
  {
   "cell_type": "markdown",
   "id": "1facccdd-527c-430e-8fbf-8178408c71fa",
   "metadata": {},
   "source": [
    "The large dataset, approximately 2.3GB in size, is Recipe Dataset (over 2M) Food. You can find it on https://www.kaggle.com/datasets/wilmerarltstrmberg/recipe-dataset-over-2m"
   ]
  },
  {
   "cell_type": "markdown",
   "id": "348596a6-ab20-4b0c-af54-fb6dce405e1b",
   "metadata": {},
   "source": [
    "## Load Libraries"
   ]
  },
  {
   "cell_type": "code",
   "execution_count": 7,
   "id": "4ad1a134-1e9a-4035-8d14-3304f82d6205",
   "metadata": {},
   "outputs": [],
   "source": [
    "import time\n",
    "import pandas as pd\n",
    "import dask.dataframe as dd\n",
    "import modin.pandas as mpd\n",
    "import ray\n",
    "import yaml\n",
    "import os\n",
    "import seaborn as sns\n",
    "import matplotlib.pyplot as plt\n",
    "\n",
    "import warnings\n",
    "warnings.filterwarnings(\"ignore\")"
   ]
  },
  {
   "cell_type": "markdown",
   "id": "c5ca35fb-2c57-4ad7-895e-67ae5fc285f3",
   "metadata": {},
   "source": [
    "## Read the file with different methods"
   ]
  },
  {
   "cell_type": "code",
   "execution_count": 11,
   "id": "ec31177b-7aa8-4bc1-944e-f71204fe2a40",
   "metadata": {},
   "outputs": [],
   "source": [
    "file_path = \"recipes_data.csv\""
   ]
  },
  {
   "cell_type": "code",
   "execution_count": 12,
   "id": "fa365602-e972-4a98-b7e6-e6d544a27b50",
   "metadata": {},
   "outputs": [],
   "source": [
    "# Measure performance of different reading methods\n",
    "def measure_time(func, *args, **kwargs):\n",
    "    start = time.time()\n",
    "    result = func(*args, **kwargs)\n",
    "    end = time.time()\n",
    "    return result, end - start"
   ]
  },
  {
   "cell_type": "markdown",
   "id": "d52ab479-90f2-484a-b3ab-4b633658c5ae",
   "metadata": {},
   "source": [
    "#### Pandas"
   ]
  },
  {
   "cell_type": "code",
   "execution_count": 19,
   "id": "9821adaa-89f0-46fe-88a9-a68ed4c3b07d",
   "metadata": {},
   "outputs": [],
   "source": [
    "pandas_df, pandas_time = measure_time(pd.read_csv, file_path)"
   ]
  },
  {
   "cell_type": "markdown",
   "id": "3c311b7e-49a8-4394-9e60-1329c56e801a",
   "metadata": {},
   "source": [
    "#chunk_size = 100000\n",
    "#pandas_df, pandas_time = measure_time(pd.read_csv, file_path, chunksize=chunk_size)"
   ]
  },
  {
   "cell_type": "markdown",
   "id": "fc2ec5bf-75bd-4d1e-9e99-2c22a6a26d6b",
   "metadata": {},
   "source": [
    "#### Dask"
   ]
  },
  {
   "cell_type": "code",
   "execution_count": 15,
   "id": "398cab97-db86-4743-8757-7c59e9c80222",
   "metadata": {},
   "outputs": [],
   "source": [
    "dask_df, dask_time = measure_time(dd.read_csv, file_path)"
   ]
  },
  {
   "cell_type": "markdown",
   "id": "eaf65bfe-9b55-4c13-9cbf-e19f008edcf9",
   "metadata": {},
   "source": [
    "#### Modin"
   ]
  },
  {
   "cell_type": "code",
   "execution_count": 16,
   "id": "5936393f-e2e0-4942-989f-a2aae943bb83",
   "metadata": {},
   "outputs": [
    {
     "name": "stderr",
     "output_type": "stream",
     "text": [
      "2025-03-09 12:41:52,163\tINFO worker.py:1841 -- Started a local Ray instance.\n"
     ]
    }
   ],
   "source": [
    "modin_df, modin_time = measure_time(mpd.read_csv, file_path)"
   ]
  },
  {
   "cell_type": "markdown",
   "id": "12b57848-9739-4996-86ce-0e6cf9bb1c9a",
   "metadata": {},
   "source": [
    "#### Ray"
   ]
  },
  {
   "cell_type": "code",
   "execution_count": 17,
   "id": "3cad4a92-aa2e-4a86-948d-bd92d7cb9bad",
   "metadata": {},
   "outputs": [],
   "source": [
    "ray_df, ray_time = measure_time(ray.data.read_csv, file_path)"
   ]
  },
  {
   "cell_type": "markdown",
   "id": "0963f85b-7e67-4933-b12f-5f01839e4624",
   "metadata": {},
   "source": [
    "### Compare results"
   ]
  },
  {
   "cell_type": "code",
   "execution_count": 24,
   "id": "b4867108-f44a-411f-819f-72effcebdc3f",
   "metadata": {},
   "outputs": [
    {
     "data": {
      "image/png": "[encoded data removed]",
      "text/plain": [
       "<Figure size 1000x600 with 1 Axes>"
      ]
     },
     "metadata": {},
     "output_type": "display_data"
    }
   ],
   "source": [
    "data = {\n",
    "    'Method': ['Pandas', 'Dask', 'Modin', 'Ray'],\n",
    "    'Time (seconds)': [pandas_time, dask_time, modin_time, ray_time]\n",
    "}\n",
    "df = pd.DataFrame(data)\n",
    "sns.set(style=\"whitegrid\")\n",
    "plt.figure(figsize=(10, 6))\n",
    "bar_plot = sns.barplot(x='Method', y='Time (seconds)', data=df, palette='viridis')\n",
    "plt.title('Comparison of Reading Times for Different Methods')\n",
    "plt.xlabel('Method')\n",
    "plt.ylabel('Time (seconds)')\n",
    "for p in bar_plot.patches:\n",
    "    bar_plot.annotate(f'{p.get_height():.2f}', \n",
    "                      (p.get_x() + p.get_width() / 2., p.get_height()), \n",
    "                      ha='center', va='bottom', \n",
    "                      fontsize=9, color='black', \n",
    "                      xytext=(0, 5),  \n",
    "                      textcoords='offset points')\n",
    "\n",
    "plt.show()"
   ]
  },
  {
   "cell_type": "markdown",
   "id": "93c466e0-00bb-4348-bec0-af170910b5fe",
   "metadata": {},
   "source": [
    "#### Dask demonstrates the fastest computational speed among all methods, making it the superior choice for handling large datasets efficiently"
   ]
  },
  {
   "cell_type": "markdown",
   "id": "a12c6bd7-d97f-4428-a34f-a1f4286204e7",
   "metadata": {},
   "source": [
    "## Cleaning column names"
   ]
  },
  {
   "cell_type": "code",
   "execution_count": 25,
   "id": "06270708-b73d-4211-b649-44339432b728",
   "metadata": {},
   "outputs": [],
   "source": [
    "def clean_column_names(df):\n",
    "    df.columns = df.columns.str.replace(r'[^a-zA-Z0-9_]', '', regex=True).str.strip()\n",
    "    return df\n"
   ]
  },
  {
   "cell_type": "code",
   "execution_count": 26,
   "id": "b7eb5d69-22e9-4ab3-b3b2-82d8d89e727d",
   "metadata": {},
   "outputs": [],
   "source": [
    "pandas_df = clean_column_names(pandas_df)"
   ]
  },
  {
   "cell_type": "markdown",
   "id": "5f3624d8-002f-41ad-9ae7-e1464396fbae",
   "metadata": {},
   "source": [
    "## Creating YAML file"
   ]
  },
  {
   "cell_type": "code",
   "execution_count": 27,
   "id": "0bda1198-3bfa-4474-929a-83fb36118f28",
   "metadata": {},
   "outputs": [],
   "source": [
    "schema = {\n",
    "    'separator': ',',\n",
    "    'columns': list(pandas_df.columns)\n",
    "}\n",
    "with open(\"schema.yaml\", \"w\") as yaml_file:\n",
    "    yaml.dump(schema, yaml_file)"
   ]
  },
  {
   "cell_type": "markdown",
   "id": "97742073-193a-4e39-b707-4c6e491834e6",
   "metadata": {},
   "source": [
    "### Validate column names with YAML"
   ]
  },
  {
   "cell_type": "code",
   "execution_count": 28,
   "id": "a74d89b9-c7cf-476c-899c-0fef464b8faf",
   "metadata": {},
   "outputs": [],
   "source": [
    "def validate_columns(df, schema_file):\n",
    "    with open(schema_file, \"r\") as yaml_file:\n",
    "        schema = yaml.safe_load(yaml_file)\n",
    "    return list(df.columns) == schema['columns']\n"
   ]
  },
  {
   "cell_type": "code",
   "execution_count": 29,
   "id": "528fa6d3-5f32-4654-bdbf-f6f6c1f60390",
   "metadata": {},
   "outputs": [
    {
     "name": "stdout",
     "output_type": "stream",
     "text": [
      "Column validation: True\n"
     ]
    }
   ],
   "source": [
    "is_valid = validate_columns(pandas_df, \"schema.yaml\")\n",
    "print(f\"Column validation: {is_valid}\")"
   ]
  },
  {
   "cell_type": "markdown",
   "id": "0d202b1f-20fd-4860-9b5a-c67d52a922f9",
   "metadata": {},
   "source": [
    "### Save file as pipe-separated and gzip compressed"
   ]
  },
  {
   "cell_type": "code",
   "execution_count": 30,
   "id": "acf72be5-1934-4832-9d38-dd2dc3b83487",
   "metadata": {},
   "outputs": [],
   "source": [
    "output_file = \"processed_dataset.txt.gz\"\n",
    "pandas_df.to_csv(output_file, sep='|', index=False, compression='gzip')\n"
   ]
  },
  {
   "cell_type": "markdown",
   "id": "a2ff33f3-032e-49df-826c-14b4308272e3",
   "metadata": {},
   "source": [
    "## Summary of file"
   ]
  },
  {
   "cell_type": "code",
   "execution_count": 33,
   "id": "7eb363a2-9ab9-4116-8679-9633f4c67c43",
   "metadata": {},
   "outputs": [
    {
     "name": "stdout",
     "output_type": "stream",
     "text": [
      "{'Total Rows': 2231142, 'Total Columns': 7, 'File Size': 642054868}\n"
     ]
    }
   ],
   "source": [
    "summary = {\n",
    "    \"Total Rows\": len(pandas_df),\n",
    "    \"Total Columns\": len(pandas_df.columns),\n",
    "    \"File Size\": os.path.getsize(output_file)\n",
    "}\n",
    "print(summary)"
   ]
  },
  {
   "cell_type": "code",
   "execution_count": null,
   "id": "34eddac4-3c9e-49ed-9dd2-0aa12389b6a7",
   "metadata": {},
   "outputs": [],
   "source": []
  }
 ],
 "metadata": {
  "kernelspec": {
   "display_name": "Python 3 (ipykernel)",
   "language": "python",
   "name": "python3"
  },
  "language_info": {
   "codemirror_mode": {
    "name": "ipython",
    "version": 3
   },
   "file_extension": ".py",
   "mimetype": "text/x-python",
   "name": "python",
   "nbconvert_exporter": "python",
   "pygments_lexer": "ipython3",
   "version": "3.12.5"
  }
 },
 "nbformat": 4,
 "nbformat_minor": 5
}
